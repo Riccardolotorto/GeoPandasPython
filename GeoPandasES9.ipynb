{
  "nbformat": 4,
  "nbformat_minor": 0,
  "metadata": {
    "colab": {
      "provenance": []
    },
    "kernelspec": {
      "name": "python3",
      "display_name": "Python 3"
    },
    "language_info": {
      "name": "python"
    }
  },
  "cells": [
    {
      "cell_type": "code",
      "execution_count": null,
      "metadata": {
        "id": "8miYANixtV9K"
      },
      "outputs": [],
      "source": [
        "!pip install geopandas contextily"
      ]
    },
    {
      "cell_type": "code",
      "source": [
        "import geopandas as gdp \n",
        "import pandas as pd\n",
        "import matplotlib.pyplot as plt\n",
        "import contextily as ctx"
      ],
      "metadata": {
        "id": "WeIp5HZato31"
      },
      "execution_count": 2,
      "outputs": []
    },
    {
      "cell_type": "code",
      "source": [
        "quartieri = gdp.read_file(\"/content/drive/MyDrive/Colab Notebooks/ds964_nil_wm.zip\")\n",
        "bici = gdp.read_file(\"/content/drive/MyDrive/Colab Notebooks/bike_ciclabili.zip\")\n",
        "regioni = gdp.read_file(\"/content/drive/MyDrive/Colab Notebooks/Reg01012022_g (1)\")\n",
        "province = gdp.read_file(\"/content/drive/MyDrive/Colab Notebooks/ProvCM01012022_g\")\n",
        "fontane = gdp.read_file(\"/content/drive/MyDrive/Colab Notebooks/Fontanelle.zip\")\n",
        "fiumi = gdp.read_file(\"/content/drive/MyDrive/Colab Notebooks/Corsi_acqua_Piano_di_Gestione.zip\")"
      ],
      "metadata": {
        "id": "FtuLTpoetztY"
      },
      "execution_count": 5,
      "outputs": []
    },
    {
      "cell_type": "code",
      "source": [
        "comuni = gdp.read_file(\"/content/drive/MyDrive/Colab Notebooks/Com01012022_g\")"
      ],
      "metadata": {
        "id": "0WFgQgnlzWMY"
      },
      "execution_count": 11,
      "outputs": []
    },
    {
      "cell_type": "markdown",
      "source": [
        "1. visualizzare i primi dieci record del file dei quartieri"
      ],
      "metadata": {
        "id": "PP23e2Vkvlm1"
      }
    },
    {
      "cell_type": "code",
      "source": [
        "quartieri.head(10)"
      ],
      "metadata": {
        "id": "YicClHDJvrEs"
      },
      "execution_count": null,
      "outputs": []
    },
    {
      "cell_type": "markdown",
      "source": [
        "2. visualizzare presente se la regione Alsazia è presente, altrimenti mostrare non presente se la regione non c'è"
      ],
      "metadata": {
        "id": "xprsPFQTvrg5"
      }
    },
    {
      "cell_type": "code",
      "source": [
        "if len(regioni[regioni[\"DEN_REG\"] == \"Alsazia\"]) > 0:\n",
        "  print(\"presente\")\n",
        "else:\n",
        "  print(\"non presente\")"
      ],
      "metadata": {
        "colab": {
          "base_uri": "https://localhost:8080/"
        },
        "id": "gnGtaP5Uv3fA",
        "outputId": "d12830ef-271e-48b6-adf4-8ffb5266a695"
      },
      "execution_count": 7,
      "outputs": [
        {
          "output_type": "stream",
          "name": "stdout",
          "text": [
            "non presente\n"
          ]
        }
      ]
    },
    {
      "cell_type": "markdown",
      "source": [
        "3. visualizzare su una mappa di milano i quartieri e le piste ciclabili"
      ],
      "metadata": {
        "id": "yDfTG_7jv4Wc"
      }
    },
    {
      "cell_type": "code",
      "source": [
        "quartieri3857 = quartieri.to_crs(3857)\n",
        "bici3857 = bici.to_crs(3857)"
      ],
      "metadata": {
        "id": "RzXLOJnRyCRU"
      },
      "execution_count": 8,
      "outputs": []
    },
    {
      "cell_type": "code",
      "source": [
        "ax = quartieri3857.plot(figsize = (15, 12), edgecolor = \"k\", facecolor = \"none\")\n",
        "bici3857.plot(ax = ax, edgecolor = \"red\", linewidth = 2)\n",
        "ctx.add_basemap(ax)"
      ],
      "metadata": {
        "id": "I4QppTgQyKBa"
      },
      "execution_count": null,
      "outputs": []
    },
    {
      "cell_type": "markdown",
      "source": [
        "4. dire se il comune inserito dall'utente è in lombardia. In caso sia in lombardia visualizzarlo, se invece non è in lombardia mostrare un messaggio opportuno"
      ],
      "metadata": {
        "id": "hukJXEWNyeUD"
      }
    },
    {
      "cell_type": "code",
      "source": [
        "regioni3857 = regioni.to_crs(3857)\n",
        "comuni3857 = comuni.to_crs(3857)"
      ],
      "metadata": {
        "id": "2amIu9VEzKOP"
      },
      "execution_count": 12,
      "outputs": []
    },
    {
      "cell_type": "code",
      "source": [
        "lombardia = regioni3857[regioni3857[\"DEN_REG\"] == \"Lombardia\"].geometry.item()"
      ],
      "metadata": {
        "id": "cLfPUiISzeZG"
      },
      "execution_count": 13,
      "outputs": []
    },
    {
      "cell_type": "code",
      "source": [
        "comune_inserito = comuni3857[comuni3857[\"COMUNE\"] == input(\"inserire un comune: \")].geometry.item()\n",
        "if comune_inserito.intersects(lombardia) == True:\n",
        "  comune_inseritoSerie = gdp.GeoSeries([comune_inserito])\n",
        "  ax = comune_inseritoSerie.plot(figsize = (15, 12), edgecolor = \"k\", facecolor = \"none\")\n",
        "  ctx.add_basemap(ax)\n",
        "else:\n",
        "  print(\"comune non in lombardia\")"
      ],
      "metadata": {
        "colab": {
          "base_uri": "https://localhost:8080/"
        },
        "id": "Az6XzgG5zk3n",
        "outputId": "cbf41c3e-bde6-458d-e351-cbdb982e35a7"
      },
      "execution_count": 15,
      "outputs": [
        {
          "output_type": "stream",
          "name": "stdout",
          "text": [
            "inserire un comune: Roma\n",
            "comune non in lombardia\n"
          ]
        }
      ]
    },
    {
      "cell_type": "markdown",
      "source": [
        "5. visualizzare colori diversi sui quartieri di milano in base al numero di fontanelle"
      ],
      "metadata": {
        "id": "9Clzdrsh2kgf"
      }
    },
    {
      "cell_type": "code",
      "source": [
        "fontane3857 = fontane.to_crs(3857)"
      ],
      "metadata": {
        "id": "-9GiUQSY2yei"
      },
      "execution_count": 16,
      "outputs": []
    },
    {
      "cell_type": "code",
      "source": [
        "quartieri3857"
      ],
      "metadata": {
        "id": "3-1d6iqk3IBT"
      },
      "execution_count": null,
      "outputs": []
    },
    {
      "cell_type": "code",
      "source": [
        "fontane3857"
      ],
      "metadata": {
        "id": "ibSS8RvA3jYd"
      },
      "execution_count": null,
      "outputs": []
    },
    {
      "cell_type": "code",
      "source": [
        "joined = gdp.sjoin(fontane3857, quartieri3857, predicate=\"within\", how=\"left\")\n",
        "joined"
      ],
      "metadata": {
        "id": "ymasxMgJ31Pr"
      },
      "execution_count": null,
      "outputs": []
    },
    {
      "cell_type": "code",
      "source": [
        "fontane_quartiere = joined.groupby(\"NIL\").count()[[\"Licenza\"]].reset_index()\n",
        "fontane_quartiere"
      ],
      "metadata": {
        "id": "yDrsRqTT5w7Q"
      },
      "execution_count": null,
      "outputs": []
    },
    {
      "cell_type": "code",
      "source": [
        "finale = quartieri3857.merge(fontane_quartiere, on=\"NIL\")\n",
        "finale"
      ],
      "metadata": {
        "id": "VekoHjDp6STo"
      },
      "execution_count": null,
      "outputs": []
    },
    {
      "cell_type": "code",
      "source": [
        "ax = finale.plot(figsize = (15, 12), edgecolor = \"k\", column = \"Licenza\", legend = True)\n",
        "ctx.add_basemap(ax)"
      ],
      "metadata": {
        "id": "lJaEAtsb6ur4"
      },
      "execution_count": null,
      "outputs": []
    }
  ]
}